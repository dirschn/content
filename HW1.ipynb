{
 "cells": [
  {
   "cell_type": "markdown",
   "metadata": {},
   "source": [
    "# Homework 1. Which of two things is larger?\n",
    "\n",
    "Due: Thursday, September 19, 11:59 PM\n",
    "\n",
    "<a href=https://raw.github.com/cs109/content/master/HW1.ipynb download=HW1.ipynb> Download this assignment</a>\n",
    "\n",
    "---"
   ]
  },
  {
   "cell_type": "markdown",
   "metadata": {},
   "source": [
    "Useful libraries for this assignment\n",
    "\n",
    "* [numpy](http://docs.scipy.org/doc/numpy-dev/user/index.html), for arrays\n",
    "* [pandas](http://pandas.pydata.org/), for data frames\n",
    "* [matplotlib](http://matplotlib.org/), for plotting\n",
    "* [requests](http://docs.python-requests.org/en/latest/), for downloading web content\n",
    "* [pattern](http://www.clips.ua.ac.be/pages/pattern), for parsing html and xml pages\n",
    "* [fnmatch](http://docs.python.org/2/library/fnmatch.html) (optional), for Unix-style string matching"
   ]
  },
  {
   "cell_type": "code",
   "execution_count": 3,
   "metadata": {},
   "outputs": [],
   "source": [
    "# special IPython command to prepare the notebook for matplotlib\n",
    "%matplotlib inline \n",
    "\n",
    "from fnmatch import fnmatch\n",
    "\n",
    "import numpy as np\n",
    "import pandas as pd\n",
    "import matplotlib.pyplot as plt\n",
    "import requests\n",
    "from pattern import web\n",
    "\n",
    "\n",
    "# set some nicer defaults for matplotlib\n",
    "from matplotlib import rcParams\n",
    "\n",
    "#these colors come from colorbrewer2.org. Each is an RGB triplet\n",
    "dark2_colors = [(0.10588235294117647, 0.6196078431372549, 0.4666666666666667),\n",
    "                (0.8509803921568627, 0.37254901960784315, 0.00784313725490196),\n",
    "                (0.4588235294117647, 0.4392156862745098, 0.7019607843137254),\n",
    "                (0.9058823529411765, 0.1607843137254902, 0.5411764705882353),\n",
    "                (0.4, 0.6509803921568628, 0.11764705882352941),\n",
    "                (0.9019607843137255, 0.6705882352941176, 0.00784313725490196),\n",
    "                (0.6509803921568628, 0.4627450980392157, 0.11372549019607843),\n",
    "                (0.4, 0.4, 0.4)]\n",
    "\n",
    "rcParams['figure.figsize'] = (10, 6)\n",
    "rcParams['figure.dpi'] = 150\n",
    "rcParams['axes.prop_cycle'] = plt.cycler(color=dark2_colors)\n",
    "rcParams['lines.linewidth'] = 2\n",
    "rcParams['axes.grid'] = True\n",
    "rcParams['axes.facecolor'] = '#eeeeee'\n",
    "rcParams['font.size'] = 14\n",
    "rcParams['patch.edgecolor'] = 'none'"
   ]
  },
  {
   "cell_type": "markdown",
   "metadata": {},
   "source": [
    "## Introduction\n",
    "\n",
    "This was the [XKCD comic](http://xkcd.com/1131/) after the 2012 Presidential election:\n",
    "\n",
    "<img src=\"http://imgs.xkcd.com/comics/math.png\">"
   ]
  },
  {
   "cell_type": "markdown",
   "metadata": {},
   "source": [
    "The comic refers to the fact that Nate Silver's statistical model (which is based mostly on combining information from pre-election polls) correctly predicted the outcome of the 2012 presidential race in all 50 states. \n",
    "\n",
    "Polling data isn't a perfect predictor for the future, and some polls are more accurate than others. This means that election forecastors must consider prediction uncertainty when building models.\n",
    "\n",
    "In this first assignment, you will perform a simple analysis of polling data about the upcoming <a href=\"http://en.wikipedia.org/wiki/Governor_(United_States)\">Governor races</a>. The assignment has three main parts:\n",
    "\n",
    "**First** you will build some tools to download historical polling data from the web, and parse it into a more convenient format. \n",
    "\n",
    "**Next** you will use these tools to aggregate and visualize several past Governor races\n",
    "\n",
    "**Finally** you will run a bootstrap analysis to estimate the probable outcome of current Governor races, given the level of precision of historical polls.\n",
    "\n",
    "---"
   ]
  },
  {
   "cell_type": "markdown",
   "metadata": {},
   "source": [
    "\n",
    "\n",
    "## Part 1: Collect and Clean\n",
    "\n",
    "The [Real Clear Politics](http://www.realclearpolitics.com) website archives many political polls. In addition, they combine related polls to form an \"RCP average\" estimate of public opinion over time. For example, the chart on [this page](http://www.realclearpolitics.com/epolls/2012/president/us/general_election_romney_vs_obama-1171.html) shows historical polling data for the Obama-Romney presidential race. The chart is an average of the polling data table below the chart.\n",
    "\n",
    "The data used to generate plots like this are stored as XML pages, with URLs like:\n",
    "\n",
    "http://charts.realclearpolitics.com/charts/[id].xml\n",
    "\n",
    "Here, [id] is a unique integer, found at the end of the URL of the page that displays the graph. The id for the Obama-Romney race is 1171:\n",
    "\n",
    "http://charts.realclearpolitics.com/charts/1171.xml\n",
    "\n",
    "Opening this page in Google Chrome or Firefox will show you the XML content in an easy-to-read format. Notice that XML tags are nested inside each other, hierarchically (the jargony term for this is the \"Document Object Model\", or \"DOM\"). The first step of webscraping is almost always exploring the HTML/XML source in a browser, and getting a sense of this hierarchy.\n",
    "\n",
    "---\n",
    "\n",
    "#### Problem 0\n",
    "\n",
    "The above XML page includes 5 distinct tags (one, for example, is `chart`). List these tags, and depict how they nest inside each other using an indented list. For example:\n",
    "\n",
    "* Page\n",
    "  * Section\n",
    "     * Paragraph\n",
    "  * Conclusion"
   ]
  },
  {
   "cell_type": "markdown",
   "metadata": {},
   "source": [
    "*Your Answer Here*\n",
    "* Chart\n",
    "    * Series\n",
    "        * Value\n",
    "    * Graphs\n",
    "        * Graph\n",
    "            * Value"
   ]
  },
  {
   "cell_type": "markdown",
   "metadata": {},
   "source": [
    "---\n",
    "#### Problem 1\n",
    "\n",
    "We want to download and work with poll data like this. Like most programming tasks, we will break this into many smaller, easier pieces\n",
    "\n",
    "Fill in the code for the `get_poll_xml` function, that finds and downloads an XML page discussed above\n",
    "\n",
    "**Hint** \n",
    "\n",
    "`requests.get(\"http://www.google.com\").text` downloads the text from Google's homepage"
   ]
  },
  {
   "cell_type": "code",
   "execution_count": 4,
   "metadata": {
    "scrolled": false
   },
   "outputs": [],
   "source": [
    "\"\"\"\n",
    "Function\n",
    "--------\n",
    "get_poll_xml\n",
    "\n",
    "Given a poll_id, return the XML data as a text string\n",
    "\n",
    "Inputs\n",
    "------\n",
    "poll_id : int\n",
    "    The ID of the poll to fetch\n",
    "\n",
    "Returns\n",
    "-------\n",
    "xml : str\n",
    "    The text of the XML page for that poll_id\n",
    "\n",
    "Example\n",
    "-------\n",
    ">>> get_poll_xml(1044)\n",
    "u'<?xml version=\"1.0\" encoding=\"UTF-8\"?><chart><series><value xid=\\'0\\'>1/27/2009</value>\n",
    "...etc...\n",
    "\"\"\"    \n",
    "#your code here \n",
    "import urllib3\n",
    "\n",
    "http = urllib3.PoolManager()\n",
    "\n",
    "base_link = 'http://charts.realclearpolitics.com/charts/'\n",
    "link_end = '.xml'\n",
    "\n",
    "def get_poll_xml(poll_id):\n",
    "    poll_url = ''.join([base_link,str(poll_id),link_end])\n",
    "    xml = requests.get(poll_url).text\n",
    "    #print(xml)\n",
    "    return xml\n",
    "\n",
    "#get_poll_xml(1171)"
   ]
  },
  {
   "cell_type": "markdown",
   "metadata": {},
   "source": [
    "Here are some other functions we'll use later. `plot_colors` contains hints about parsing XML data."
   ]
  },
  {
   "cell_type": "code",
   "execution_count": 5,
   "metadata": {},
   "outputs": [],
   "source": [
    "# \"r\"egular \"e\"xpressions is kind of a mini-language to\n",
    "# do pattern matching on text\n",
    "import re\n",
    "\n",
    "def _strip(s):\n",
    "    \"\"\"This function removes non-letter characters from a word\n",
    "    \n",
    "    for example _strip('Hi there!') == 'Hi there'\n",
    "    \"\"\"\n",
    "    return re.sub(r'[\\W_]+', '', s)\n",
    "\n",
    "def plot_colors(xml):\n",
    "    \"\"\"\n",
    "    Given an XML document like the link above, returns a python dictionary\n",
    "    that maps a graph title to a graph color.\n",
    "    \n",
    "    Both the title and color are parsed from attributes of the <graph> tag:\n",
    "    <graph title=\"the title\", color=\"#ff0000\"> -> {'the title': '#ff0000'}\n",
    "    \n",
    "    These colors are in \"hex string\" format. This page explains them:\n",
    "    http://coding.smashingmagazine.com/2012/10/04/the-code-side-of-color/\n",
    "    \n",
    "    Example\n",
    "    -------\n",
    "    >>> plot_colors(get_poll_xml(1044))\n",
    "    {u'Approve': u'#000000', u'Disapprove': u'#FF0000'}\n",
    "    \"\"\"\n",
    "    dom = web.Element(xml)\n",
    "    result = {}\n",
    "    for graph in dom.by_tag('graph'):\n",
    "        title = _strip(graph.attributes['title'])\n",
    "        result[title] = graph.attributes['color']\n",
    "    return result"
   ]
  },
  {
   "cell_type": "markdown",
   "metadata": {},
   "source": [
    "---\n",
    "\n",
    "#### Problem 2\n",
    "\n",
    "Even though `get_poll_xml` pulls data from the web into Python, it does so as a block of text. This still isn't very useful. Use the `web` module in `pattern` to parse this text, and extract data into a pandas DataFrame.\n",
    "\n",
    "**Hints**\n",
    "\n",
    "* You might want create python lists for each column in the XML. Then, to turn these lists into a DataFrame, run\n",
    "\n",
    "`pd.DataFrame({'column_label_1': list_1, 'column_label_2':list_2, ...})`\n",
    "\n",
    "* use the pandas function `pd.to_datetime` to convert strings into dates"
   ]
  },
  {
   "cell_type": "code",
   "execution_count": 14,
   "metadata": {},
   "outputs": [
    {
     "name": "stdout",
     "output_type": "stream",
     "text": [
      "{'0': '2/01/2011', '1': '2/02/2011', '2': '2/03/2011', '3': '2/04/2011', '4': '2/05/2011', '5': '2/06/2011', '6': '2/07/2011', '7': '2/08/2011', '8': '2/09/2011', '9': '2/10/2011', '10': '2/11/2011', '11': '2/12/2011', '12': '2/13/2011', '13': '2/14/2011', '14': '2/15/2011', '15': '2/16/2011', '16': '2/17/2011', '17': '2/18/2011', '18': '2/19/2011', '19': '2/20/2011', '20': '2/21/2011', '21': '2/22/2011', '22': '2/23/2011', '23': '2/24/2011', '24': '2/25/2011', '25': '2/26/2011', '26': '2/27/2011', '27': '2/28/2011', '28': '3/01/2011', '29': '3/02/2011', '30': '3/03/2011', '31': '3/04/2011', '32': '3/05/2011', '33': '3/06/2011', '34': '3/07/2011', '35': '3/08/2011', '36': '3/09/2011', '37': '3/10/2011', '38': '3/11/2011', '39': '3/12/2011', '40': '3/13/2011', '41': '3/14/2011', '42': '3/15/2011', '43': '3/16/2011', '44': '3/17/2011', '45': '3/18/2011', '46': '3/19/2011', '47': '3/20/2011', '48': '3/21/2011', '49': '3/22/2011', '50': '3/23/2011', '51': '3/24/2011', '52': '3/25/2011', '53': '3/26/2011', '54': '3/27/2011', '55': '3/28/2011', '56': '3/29/2011', '57': '3/30/2011', '58': '3/31/2011', '59': '4/01/2011', '60': '4/02/2011', '61': '4/03/2011', '62': '4/04/2011', '63': '4/05/2011', '64': '4/06/2011', '65': '4/07/2011', '66': '4/08/2011', '67': '4/09/2011', '68': '4/10/2011', '69': '4/11/2011', '70': '4/12/2011', '71': '4/13/2011', '72': '4/14/2011', '73': '4/15/2011', '74': '4/16/2011', '75': '4/17/2011', '76': '4/18/2011', '77': '4/19/2011', '78': '4/20/2011', '79': '4/21/2011', '80': '4/22/2011', '81': '4/23/2011', '82': '4/24/2011', '83': '4/25/2011', '84': '4/26/2011', '85': '4/27/2011', '86': '4/28/2011', '87': '4/29/2011', '88': '4/30/2011', '89': '5/01/2011', '90': '5/02/2011', '91': '5/03/2011', '92': '5/04/2011', '93': '5/05/2011', '94': '5/06/2011', '95': '5/07/2011', '96': '5/08/2011', '97': '5/09/2011', '98': '5/10/2011', '99': '5/11/2011', '100': '5/12/2011', '101': '5/13/2011', '102': '5/14/2011', '103': '5/15/2011', '104': '5/16/2011', '105': '5/17/2011', '106': '5/18/2011', '107': '5/19/2011', '108': '5/20/2011', '109': '5/21/2011', '110': '5/22/2011', '111': '5/23/2011', '112': '5/24/2011', '113': '5/25/2011', '114': '5/26/2011', '115': '5/27/2011', '116': '5/28/2011', '117': '5/29/2011', '118': '5/30/2011', '119': '5/31/2011', '120': '6/01/2011', '121': '6/02/2011', '122': '6/03/2011', '123': '6/04/2011', '124': '6/05/2011', '125': '6/06/2011', '126': '6/07/2011', '127': '6/08/2011', '128': '6/09/2011', '129': '6/10/2011', '130': '6/11/2011', '131': '6/12/2011', '132': '6/13/2011', '133': '6/14/2011', '134': '6/15/2011', '135': '6/16/2011', '136': '6/17/2011', '137': '6/18/2011', '138': '6/19/2011', '139': '6/20/2011', '140': '6/21/2011', '141': '6/22/2011', '142': '6/23/2011', '143': '6/24/2011', '144': '6/25/2011', '145': '6/26/2011', '146': '6/27/2011', '147': '6/28/2011', '148': '6/29/2011', '149': '6/30/2011', '150': '7/01/2011', '151': '7/02/2011', '152': '7/03/2011', '153': '7/04/2011', '154': '7/05/2011', '155': '7/06/2011', '156': '7/07/2011', '157': '7/08/2011', '158': '7/09/2011', '159': '7/10/2011', '160': '7/11/2011', '161': '7/12/2011', '162': '7/13/2011', '163': '7/14/2011', '164': '7/15/2011', '165': '7/16/2011', '166': '7/17/2011', '167': '7/18/2011', '168': '7/19/2011', '169': '7/20/2011', '170': '7/21/2011', '171': '7/22/2011', '172': '7/23/2011', '173': '7/24/2011', '174': '7/25/2011', '175': '7/26/2011', '176': '7/27/2011', '177': '7/28/2011', '178': '7/29/2011', '179': '7/30/2011', '180': '7/31/2011', '181': '8/01/2011', '182': '8/02/2011', '183': '8/03/2011', '184': '8/04/2011', '185': '8/05/2011', '186': '8/06/2011', '187': '8/07/2011', '188': '8/08/2011', '189': '8/09/2011', '190': '8/10/2011', '191': '8/11/2011', '192': '8/12/2011', '193': '8/13/2011', '194': '8/14/2011', '195': '8/15/2011', '196': '8/16/2011', '197': '8/17/2011', '198': '8/18/2011', '199': '8/19/2011', '200': '8/20/2011', '201': '8/21/2011', '202': '8/22/2011', '203': '8/23/2011', '204': '8/24/2011', '205': '8/25/2011', '206': '8/26/2011', '207': '8/27/2011', '208': '8/28/2011', '209': '8/29/2011', '210': '8/30/2011', '211': '8/31/2011', '212': '9/01/2011', '213': '9/02/2011', '214': '9/03/2011', '215': '9/04/2011', '216': '9/05/2011', '217': '9/06/2011', '218': '9/07/2011', '219': '9/08/2011', '220': '9/09/2011', '221': '9/10/2011', '222': '9/11/2011', '223': '9/12/2011', '224': '9/13/2011', '225': '9/14/2011', '226': '9/15/2011', '227': '9/16/2011', '228': '9/17/2011', '229': '9/18/2011', '230': '9/19/2011', '231': '9/20/2011', '232': '9/21/2011', '233': '9/22/2011', '234': '9/23/2011', '235': '9/24/2011', '236': '9/25/2011', '237': '9/26/2011', '238': '9/27/2011', '239': '9/28/2011', '240': '9/29/2011', '241': '9/30/2011', '242': '10/01/2011', '243': '10/02/2011', '244': '10/03/2011', '245': '10/04/2011', '246': '10/05/2011', '247': '10/06/2011', '248': '10/07/2011', '249': '10/08/2011', '250': '10/09/2011', '251': '10/10/2011', '252': '10/11/2011', '253': '10/12/2011', '254': '10/13/2011', '255': '10/14/2011', '256': '10/15/2011', '257': '10/16/2011', '258': '10/17/2011', '259': '10/18/2011', '260': '10/19/2011', '261': '10/20/2011', '262': '10/21/2011', '263': '10/22/2011', '264': '10/23/2011', '265': '10/24/2011', '266': '10/25/2011', '267': '10/26/2011', '268': '10/27/2011', '269': '10/28/2011', '270': '10/29/2011', '271': '10/30/2011', '272': '10/31/2011', '273': '11/01/2011', '274': '11/02/2011', '275': '11/03/2011', '276': '11/04/2011', '277': '11/05/2011', '278': '11/06/2011', '279': '11/07/2011', '280': '11/08/2011', '281': '11/09/2011', '282': '11/10/2011', '283': '11/11/2011', '284': '11/12/2011', '285': '11/13/2011', '286': '11/14/2011', '287': '11/15/2011', '288': '11/16/2011', '289': '11/17/2011', '290': '11/18/2011', '291': '11/19/2011', '292': '11/20/2011', '293': '11/21/2011', '294': '11/22/2011', '295': '11/23/2011', '296': '11/24/2011', '297': '11/25/2011', '298': '11/26/2011', '299': '11/27/2011', '300': '11/28/2011', '301': '11/29/2011', '302': '11/30/2011', '303': '12/01/2011', '304': '12/02/2011', '305': '12/03/2011', '306': '12/04/2011', '307': '12/05/2011', '308': '12/06/2011', '309': '12/07/2011', '310': '12/08/2011', '311': '12/09/2011', '312': '12/10/2011', '313': '12/11/2011', '314': '12/12/2011', '315': '12/13/2011', '316': '12/14/2011', '317': '12/15/2011', '318': '12/16/2011', '319': '12/17/2011', '320': '12/18/2011', '321': '12/19/2011', '322': '12/20/2011', '323': '12/21/2011', '324': '12/22/2011', '325': '12/23/2011', '326': '12/24/2011', '327': '12/25/2011', '328': '12/26/2011', '329': '12/27/2011', '330': '12/28/2011', '331': '12/29/2011', '332': '12/30/2011', '333': '12/31/2011', '334': '1/01/2012', '335': '1/02/2012', '336': '1/03/2012', '337': '1/04/2012', '338': '1/05/2012', '339': '1/06/2012', '340': '1/07/2012', '341': '1/08/2012', '342': '1/09/2012', '343': '1/10/2012', '344': '1/11/2012', '345': '1/12/2012', '346': '1/13/2012', '347': '1/14/2012', '348': '1/15/2012', '349': '1/16/2012', '350': '1/17/2012', '351': '1/18/2012', '352': '1/19/2012', '353': '1/20/2012', '354': '1/21/2012', '355': '1/22/2012', '356': '1/23/2012', '357': '1/24/2012', '358': '1/25/2012', '359': '1/26/2012', '360': '1/27/2012', '361': '1/28/2012', '362': '1/29/2012', '363': '1/30/2012', '364': '1/31/2012', '365': '2/01/2012', '366': '2/02/2012', '367': '2/03/2012', '368': '2/04/2012', '369': '2/05/2012', '370': '2/06/2012', '371': '2/07/2012', '372': '2/08/2012', '373': '2/09/2012', '374': '2/10/2012', '375': '2/11/2012', '376': '2/12/2012', '377': '2/13/2012', '378': '2/14/2012', '379': '2/15/2012', '380': '2/16/2012', '381': '2/17/2012', '382': '2/18/2012', '383': '2/19/2012', '384': '2/20/2012', '385': '2/21/2012', '386': '2/22/2012', '387': '2/23/2012', '388': '2/24/2012', '389': '2/25/2012', '390': '2/26/2012', '391': '2/27/2012', '392': '2/28/2012', '393': '2/29/2012', '394': '3/01/2012', '395': '3/02/2012', '396': '3/03/2012', '397': '3/04/2012', '398': '3/05/2012', '399': '3/06/2012', '400': '3/07/2012', '401': '3/08/2012', '402': '3/09/2012', '403': '3/10/2012', '404': '3/11/2012', '405': '3/12/2012', '406': '3/13/2012', '407': '3/14/2012', '408': '3/15/2012', '409': '3/16/2012', '410': '3/17/2012', '411': '3/18/2012', '412': '3/19/2012', '413': '3/20/2012', '414': '3/21/2012', '415': '3/22/2012', '416': '3/23/2012', '417': '3/24/2012', '418': '3/25/2012', '419': '3/26/2012', '420': '3/27/2012', '421': '3/28/2012', '422': '3/29/2012', '423': '3/30/2012', '424': '3/31/2012', '425': '4/01/2012', '426': '4/02/2012', '427': '4/03/2012', '428': '4/04/2012', '429': '4/05/2012', '430': '4/06/2012', '431': '4/07/2012', '432': '4/08/2012', '433': '4/09/2012', '434': '4/10/2012', '435': '4/11/2012', '436': '4/12/2012', '437': '4/13/2012', '438': '4/14/2012', '439': '4/15/2012', '440': '4/16/2012', '441': '4/17/2012', '442': '4/18/2012', '443': '4/19/2012', '444': '4/20/2012', '445': '4/21/2012', '446': '4/22/2012', '447': '4/23/2012', '448': '4/24/2012', '449': '4/25/2012', '450': '4/26/2012', '451': '4/27/2012', '452': '4/28/2012', '453': '4/29/2012', '454': '4/30/2012', '455': '5/01/2012', '456': '5/02/2012', '457': '5/03/2012', '458': '5/04/2012', '459': '5/05/2012', '460': '5/06/2012', '461': '5/07/2012', '462': '5/08/2012', '463': '5/09/2012', '464': '5/10/2012', '465': '5/11/2012', '466': '5/12/2012', '467': '5/13/2012', '468': '5/14/2012', '469': '5/15/2012', '470': '5/16/2012', '471': '5/17/2012', '472': '5/18/2012', '473': '5/19/2012', '474': '5/20/2012', '475': '5/21/2012', '476': '5/22/2012', '477': '5/23/2012', '478': '5/24/2012', '479': '5/25/2012', '480': '5/26/2012', '481': '5/27/2012', '482': '5/28/2012', '483': '5/29/2012', '484': '5/30/2012', '485': '5/31/2012', '486': '6/01/2012', '487': '6/02/2012', '488': '6/03/2012', '489': '6/04/2012', '490': '6/05/2012', '491': '6/06/2012', '492': '6/07/2012', '493': '6/08/2012', '494': '6/09/2012', '495': '6/10/2012', '496': '6/11/2012', '497': '6/12/2012', '498': '6/13/2012', '499': '6/14/2012', '500': '6/15/2012', '501': '6/16/2012', '502': '6/17/2012', '503': '6/18/2012', '504': '6/19/2012', '505': '6/20/2012', '506': '6/21/2012', '507': '6/22/2012', '508': '6/23/2012', '509': '6/24/2012', '510': '6/25/2012', '511': '6/26/2012', '512': '6/27/2012', '513': '6/28/2012', '514': '6/29/2012', '515': '6/30/2012', '516': '7/01/2012', '517': '7/02/2012', '518': '7/03/2012', '519': '7/04/2012', '520': '7/05/2012', '521': '7/06/2012', '522': '7/07/2012', '523': '7/08/2012', '524': '7/09/2012', '525': '7/10/2012', '526': '7/11/2012', '527': '7/12/2012', '528': '7/13/2012', '529': '7/14/2012', '530': '7/15/2012', '531': '7/16/2012', '532': '7/17/2012', '533': '7/18/2012', '534': '7/19/2012', '535': '7/20/2012', '536': '7/21/2012', '537': '7/22/2012', '538': '7/23/2012', '539': '7/24/2012', '540': '7/25/2012', '541': '7/26/2012', '542': '7/27/2012', '543': '7/28/2012', '544': '7/29/2012', '545': '7/30/2012', '546': '7/31/2012', '547': '8/01/2012', '548': '8/02/2012', '549': '8/03/2012', '550': '8/04/2012', '551': '8/05/2012', '552': '8/06/2012', '553': '8/07/2012', '554': '8/08/2012', '555': '8/09/2012', '556': '8/10/2012', '557': '8/11/2012', '558': '8/12/2012', '559': '8/13/2012', '560': '8/14/2012', '561': '8/15/2012', '562': '8/16/2012', '563': '8/17/2012', '564': '8/18/2012', '565': '8/19/2012', '566': '8/20/2012', '567': '8/21/2012', '568': '8/22/2012', '569': '8/23/2012', '570': '8/24/2012', '571': '8/25/2012', '572': '8/26/2012', '573': '8/27/2012', '574': '8/28/2012', '575': '8/29/2012', '576': '8/30/2012', '577': '8/31/2012', '578': '9/01/2012', '579': '9/02/2012', '580': '9/03/2012', '581': '9/04/2012', '582': '9/05/2012', '583': '9/06/2012', '584': '9/07/2012', '585': '9/08/2012', '586': '9/09/2012', '587': '9/10/2012', '588': '9/11/2012', '589': '9/12/2012', '590': '9/13/2012', '591': '9/14/2012', '592': '9/15/2012', '593': '9/16/2012', '594': '9/17/2012', '595': '9/18/2012', '596': '9/19/2012', '597': '9/20/2012', '598': '9/21/2012', '599': '9/22/2012', '600': '9/23/2012', '601': '9/24/2012', '602': '9/25/2012', '603': '9/26/2012', '604': '9/27/2012', '605': '9/28/2012', '606': '9/29/2012', '607': '9/30/2012', '608': '10/01/2012', '609': '10/02/2012', '610': '10/03/2012', '611': '10/04/2012', '612': '10/05/2012', '613': '10/06/2012', '614': '10/07/2012', '615': '10/08/2012', '616': '10/09/2012', '617': '10/10/2012', '618': '10/11/2012', '619': '10/12/2012', '620': '10/13/2012', '621': '10/14/2012', '622': '10/15/2012', '623': '10/16/2012', '624': '10/17/2012', '625': '10/18/2012', '626': '10/19/2012', '627': '10/20/2012', '628': '10/21/2012', '629': '10/22/2012', '630': '10/23/2012', '631': '10/24/2012', '632': '10/25/2012', '633': '10/26/2012', '634': '10/27/2012', '635': '10/28/2012', '636': '10/29/2012', '637': '10/30/2012', '638': '10/31/2012', '639': '11/01/2012', '640': '11/02/2012', '641': '11/03/2012', '642': '11/04/2012', '643': '11/05/2012', '644': '11/06/2012', '645': '11/07/2012', '646': '11/08/2012', '647': '11/09/2012', '648': '11/10/2012', '649': '11/11/2012', '650': '11/12/2012', '651': '11/13/2012'}\n"
     ]
    },
    {
     "ename": "TypeError",
     "evalue": "list.append() takes exactly one argument (0 given)",
     "output_type": "error",
     "traceback": [
      "\u001b[0;31m---------------------------------------------------------------------------\u001b[0m",
      "\u001b[0;31mTypeError\u001b[0m                                 Traceback (most recent call last)",
      "\u001b[0;32m<ipython-input-14-7267dd3cf879>\u001b[0m in \u001b[0;36m<module>\u001b[0;34m\u001b[0m\n\u001b[1;32m     65\u001b[0m     \u001b[0;31m#    result =\u001b[0m\u001b[0;34m\u001b[0m\u001b[0;34m\u001b[0m\u001b[0;34m\u001b[0m\u001b[0m\n\u001b[1;32m     66\u001b[0m \u001b[0;34m\u001b[0m\u001b[0m\n\u001b[0;32m---> 67\u001b[0;31m \u001b[0mrcp_poll_data\u001b[0m\u001b[0;34m(\u001b[0m\u001b[0mget_poll_xml\u001b[0m\u001b[0;34m(\u001b[0m\u001b[0;36m1171\u001b[0m\u001b[0;34m)\u001b[0m\u001b[0;34m)\u001b[0m\u001b[0;34m\u001b[0m\u001b[0;34m\u001b[0m\u001b[0m\n\u001b[0m",
      "\u001b[0;32m<ipython-input-14-7267dd3cf879>\u001b[0m in \u001b[0;36mrcp_poll_data\u001b[0;34m(xml)\u001b[0m\n\u001b[1;32m     57\u001b[0m     \u001b[0mdate_list\u001b[0m \u001b[0;34m=\u001b[0m \u001b[0;34m[\u001b[0m\u001b[0;34m]\u001b[0m\u001b[0;34m\u001b[0m\u001b[0;34m\u001b[0m\u001b[0m\n\u001b[1;32m     58\u001b[0m     \u001b[0;32mfor\u001b[0m \u001b[0mvalue\u001b[0m \u001b[0;32min\u001b[0m \u001b[0mdom\u001b[0m\u001b[0;34m.\u001b[0m\u001b[0mby_tag\u001b[0m\u001b[0;34m(\u001b[0m\u001b[0;34m'series'\u001b[0m\u001b[0;34m)\u001b[0m\u001b[0;34m:\u001b[0m\u001b[0;34m\u001b[0m\u001b[0;34m\u001b[0m\u001b[0m\n\u001b[0;32m---> 59\u001b[0;31m         \u001b[0mdate_list\u001b[0m\u001b[0;34m.\u001b[0m\u001b[0mappend\u001b[0m\u001b[0;34m(\u001b[0m\u001b[0;34m)\u001b[0m\u001b[0;34m\u001b[0m\u001b[0;34m\u001b[0m\u001b[0m\n\u001b[0m\u001b[1;32m     60\u001b[0m \u001b[0;34m\u001b[0m\u001b[0m\n\u001b[1;32m     61\u001b[0m     \u001b[0;31m#for graph in dom.by_tag('graph'):\u001b[0m\u001b[0;34m\u001b[0m\u001b[0;34m\u001b[0m\u001b[0;34m\u001b[0m\u001b[0m\n",
      "\u001b[0;31mTypeError\u001b[0m: list.append() takes exactly one argument (0 given)"
     ]
    }
   ],
   "source": [
    "\"\"\"\n",
    "    Function\n",
    "    ---------\n",
    "    rcp_poll_data\n",
    "\n",
    "    Extract poll information from an XML string, and convert to a DataFrame\n",
    "\n",
    "    Parameters\n",
    "    ----------\n",
    "    xml : str\n",
    "        A string, containing the XML data from a page like \n",
    "        get_poll_xml(1044)\n",
    "        \n",
    "    Returns\n",
    "    -------\n",
    "    A pandas DataFrame with the following columns:\n",
    "        date: The date for each entry\n",
    "        title_n: The data value for the gid=n graph (take the column name from the `title` tag)\n",
    "        \n",
    "    This DataFrame should be sorted by date\n",
    "        \n",
    "    Example\n",
    "    -------\n",
    "    Consider the following simple xml page:\n",
    "    \n",
    "    <chart>\n",
    "    <series>\n",
    "    <value xid=\"0\">1/27/2009</value>\n",
    "    <value xid=\"1\">1/28/2009</value>\n",
    "    </series>\n",
    "    <graphs>\n",
    "    <graph gid=\"1\" color=\"#000000\" balloon_color=\"#000000\" title=\"Approve\">\n",
    "    <value xid=\"0\">63.3</value>\n",
    "    <value xid=\"1\">63.3</value>\n",
    "    </graph>\n",
    "    <graph gid=\"2\" color=\"#FF0000\" balloon_color=\"#FF0000\" title=\"Disapprove\">\n",
    "    <value xid=\"0\">20.0</value>\n",
    "    <value xid=\"1\">20.0</value>\n",
    "    </graph>\n",
    "    </graphs>\n",
    "    </chart>\n",
    "    \n",
    "    Given this string, rcp_poll_data should return\n",
    "    result = pd.DataFrame({'date': pd.to_datetime(['1/27/2009', '1/28/2009']), \n",
    "                           'Approve': [63.3, 63.3], 'Disapprove': [20.0, 20.0]})\n",
    "\"\"\"\n",
    "#your code here\n",
    "def rcp_poll_data(xml):\n",
    "    dom = web.Element(xml)\n",
    "    result = {}\n",
    "    \n",
    "    dates = dom.by_tag('series')[0]\n",
    "    dates = {n.attributes['xid']: str(n.content) for n in dates.by_tag(\"value\")}\n",
    "    \n",
    "    print(dates)\n",
    "    \n",
    "    keys = dates.keys()\n",
    "    \n",
    "    result['date'] = pd.to_datetime([dates[k] for k in keys])\n",
    "\n",
    "    for graph in dom.by_tag('graph'):\n",
    "        name = graph.attributes['title']\n",
    "        data = {n.attributes['xid']: float(n.content)str\n",
    "                if n.content else np.nan for n in graph.by_tag(\"value\")}\n",
    "        result[name] = [data[k] for k in keys]\n",
    "        \n",
    "    result = pd.DataFrame(result)\n",
    "    result = result.sort(columns=['date'])w\n",
    "    \n",
    "rcp_poll_data(get_poll_xml(1171))"
   ]
  },
  {
   "cell_type": "markdown",
   "metadata": {},
   "source": [
    "The output from `rcp_poll_data` is much more useful for analysis. For example, we can plot with it:"
   ]
  },
  {
   "cell_type": "code",
   "execution_count": 5,
   "metadata": {},
   "outputs": [],
   "source": [
    "def poll_plot(poll_id):\n",
    "    \"\"\"\n",
    "    Make a plot of an RCP Poll over time\n",
    "    \n",
    "    Parameters\n",
    "    ----------\n",
    "    poll_id : int\n",
    "        An RCP poll identifier\n",
    "    \"\"\"\n",
    "\n",
    "    # hey, you wrote two of these functions. Thanks for that!\n",
    "    xml = get_poll_xml(poll_id)\n",
    "    data = rcp_poll_data(xml)\n",
    "    colors = plot_colors(xml)\n",
    "\n",
    "    #remove characters like apostrophes\n",
    "    data = data.rename(columns = {c: _strip(c) for c in data.columns})\n",
    "\n",
    "    #normalize poll numbers so they add to 100%    \n",
    "    norm = data[colors.keys()].sum(axis=1) / 100    \n",
    "    for c in colors.keys():\n",
    "        data[c] /= norm\n",
    "    \n",
    "    for label, color in colors.items():\n",
    "        plt.plot(data.date, data[label], color=color, label=label)        \n",
    "        \n",
    "    plt.xticks(rotation=70)\n",
    "    plt.legend(loc='best')\n",
    "    plt.xlabel(\"Date\")\n",
    "    plt.ylabel(\"Normalized Poll Percentage\")"
   ]
  },
  {
   "cell_type": "markdown",
   "metadata": {},
   "source": [
    "If you've done everything right so far, the following code should reproduce the graph on [this page](http://www.realclearpolitics.com/epolls/other/president_obama_job_approval-1044.html)"
   ]
  },
  {
   "cell_type": "code",
   "execution_count": 6,
   "metadata": {},
   "outputs": [],
   "source": [
    "poll_plot(1044)\n",
    "plt.title(\"Obama Job Approval\")"
   ]
  },
  {
   "cell_type": "markdown",
   "metadata": {},
   "source": [
    "---\n",
    "\n",
    "## Part 2: Aggregate and Visualize\n"
   ]
  },
  {
   "cell_type": "markdown",
   "metadata": {},
   "source": [
    "#### Problem 3\n",
    "\n",
    "Unfortunately, these data don't have any error bars. If a candidate leads by 10% in the RCP average, is she a shoo-in to win? Or is this number too close to call? Does a 10% poll lead mean more 1 day before a race than it does 1 week before? Without error estimates, these questions are impossible to answer.\n",
    "\n",
    "To get a sense of how accurate the RCP polls are, you will gather data from many previous Governor races, where the outcome is known.\n",
    "\n",
    "This url has links to many governer races. \n",
    "\n",
    "http://www.realclearpolitics.com/epolls/2010/governor/2010_elections_governor_map.html\n",
    "\n",
    "Notice that each link to a governor race has the following URL pattern:\n",
    "\n",
    "http://www.realclearpolitics.com/epolls/[YEAR]/governor/[STATE]/[TITLE]-[ID].html\n",
    "\n",
    "\n",
    "Write a function that scans html for links to URLs like this\n",
    "\n",
    "**Hint** The [fnmatch](http://docs.python.org/2/library/fnmatch.html) function is useful for simple string matching tasks."
   ]
  },
  {
   "cell_type": "code",
   "execution_count": 7,
   "metadata": {},
   "outputs": [],
   "source": [
    "\"\"\"\n",
    "    Function\n",
    "    --------\n",
    "    find_governor_races\n",
    "\n",
    "    Find and return links to RCP races on a page like\n",
    "    http://www.realclearpolitics.com/epolls/2010/governor/2010_elections_governor_map.html\n",
    "    \n",
    "    Parameters\n",
    "    ----------\n",
    "    html : str\n",
    "        The HTML content of a page to scan\n",
    "        \n",
    "    Returns\n",
    "    -------\n",
    "    A list of urls for Governer race pages\n",
    "    \n",
    "    Example\n",
    "    -------\n",
    "    For a page like\n",
    "    \n",
    "    <html>\n",
    "    <body>\n",
    "    <a href=\"http://www.realclearpolitics.com/epolls/2010/governor/ma/massachusetts_governor_baker_vs_patrick_vs_cahill-1154.html\"></a>\n",
    "    <a href=\"http://www.realclearpolitics.com/epolls/2010/governor/ca/california_governor_whitman_vs_brown-1113.html\"></a>\n",
    "    </body>\n",
    "    </html>\n",
    "    \n",
    "    find_governor_races would return\n",
    "    ['http://www.realclearpolitics.com/epolls/2010/governor/ma/massachusetts_governor_baker_vs_patrick_vs_cahill-1154.html',\n",
    "     'http://www.realclearpolitics.com/epolls/2010/governor/ca/california_governor_whitman_vs_brown-1113.html']\n",
    "\"\"\"\n",
    "#your code here\n"
   ]
  },
  {
   "cell_type": "markdown",
   "metadata": {},
   "source": [
    "#### Problem 4\n",
    "\n",
    "At this point, you have functions to find a collection of governor races, download historical polling data from each one,\n",
    "parse them into a numerical DataFrame, and plot this data.\n",
    "\n",
    "The main question we have about these data are how accurately they predict election outcomes. To answer this question, we\n",
    "need to grab the election outcome data.\n",
    "\n",
    "Write a function that looks up and returns the election result on a page like [this one](http://www.realclearpolitics.com/epolls/2010/governor/ca/california_governor_whitman_vs_brown-1113.html). \n",
    "\n",
    "**Remember to look at the HTML source!**\n",
    "\n",
    "You can do this by selection `view->developer->view source` in Chrome, or `Tools -> web developer -> page source` in Firefox. Altenatively, you can right-click on a part of the page, and select \"inspect element\""
   ]
  },
  {
   "cell_type": "code",
   "execution_count": 8,
   "metadata": {},
   "outputs": [],
   "source": [
    "\"\"\"\n",
    "    Function\n",
    "    --------\n",
    "    race_result\n",
    "\n",
    "    Return the actual voting results on a race page\n",
    "    \n",
    "    Parameters\n",
    "    ----------\n",
    "    url : string\n",
    "        The website to search through\n",
    "        \n",
    "    Returns\n",
    "    -------\n",
    "    A dictionary whose keys are candidate names,\n",
    "    and whose values is the percentage of votes they received.\n",
    "    \n",
    "    If necessary, normalize these numbers so that they add up to 100%.\n",
    "    \n",
    "    Example\n",
    "    --------\n",
    "    >>> url = 'http://www.realclearpolitics.com/epolls/2010/governor/ca/california_governor_whitman_vs_brown-1113.html'\n",
    "    >>> race_result(url)\n",
    "    {'Brown': 56.0126582278481, 'Whitman': 43.9873417721519}\n",
    "\"\"\"\n",
    "#your code here\n"
   ]
  },
  {
   "cell_type": "markdown",
   "metadata": {},
   "source": [
    "Here are some more utility functions that take advantage of what you've done so far."
   ]
  },
  {
   "cell_type": "code",
   "execution_count": 9,
   "metadata": {},
   "outputs": [],
   "source": [
    "def id_from_url(url):\n",
    "    \"\"\"Given a URL, look up the RCP identifier number\"\"\"\n",
    "    return url.split('-')[-1].split('.html')[0]\n",
    "\n",
    "\n",
    "def plot_race(url):\n",
    "    \"\"\"Make a plot summarizing a senate race\n",
    "    \n",
    "    Overplots the actual race results as dashed horizontal lines\n",
    "    \"\"\"\n",
    "    #hey, thanks again for these functions!\n",
    "    id = id_from_url(url)\n",
    "    xml = get_poll_xml(id)    \n",
    "    colors = plot_colors(xml)\n",
    "\n",
    "    if len(colors) == 0:\n",
    "        return\n",
    "    \n",
    "    #really, you shouldn't have\n",
    "    result = race_result(url)\n",
    "    \n",
    "    poll_plot(id)\n",
    "    plt.xlabel(\"Date\")\n",
    "    plt.ylabel(\"Polling Percentage\")\n",
    "    for r in result:\n",
    "        plt.axhline(result[r], color=colors[_strip(r)], alpha=0.6, ls='--')\n"
   ]
  },
  {
   "cell_type": "markdown",
   "metadata": {},
   "source": [
    "Now that this is done, we can easily visualize many historical Governer races. The solid line plots the poll history, the dotted line reports the actual result.\n",
    "\n",
    "If this code block fails, you probably have a bug in one of your functions."
   ]
  },
  {
   "cell_type": "code",
   "execution_count": 10,
   "metadata": {},
   "outputs": [],
   "source": [
    "page = requests.get('http://www.realclearpolitics.com/epolls/2010/governor/2010_elections_governor_map.html').text.encode('ascii', 'ignore')\n",
    "\n",
    "for race in find_governor_races(page):\n",
    "    plot_race(race)\n",
    "    plt.show()"
   ]
  },
  {
   "cell_type": "markdown",
   "metadata": {},
   "source": [
    "Briefly summarize these graphs -- how accurate is the typical poll a day before the election? How often does a prediction one month before the election mispredict the actual winner?"
   ]
  },
  {
   "cell_type": "markdown",
   "metadata": {},
   "source": [
    "**Your summary here**"
   ]
  },
  {
   "cell_type": "markdown",
   "metadata": {},
   "source": [
    "---\n",
    "\n",
    "## Part 3: Analysis\n",
    "\n",
    "#### Problem 5\n",
    "\n",
    "You are (finally!) in a position to do some quantitative analysis.\n",
    "\n",
    "We have provided an `error_data` function that builds upon the functions you have written. It computes a new DataFrame with information about polling errors.\n",
    "\n",
    "Use `error_data`, `find_governer_races`, and `pd.concat` to construct a Data Frame summarizing the forecast errors\n",
    "from all the Governor races\n",
    "\n",
    "**Hint** \n",
    "\n",
    "It's best to set `ignore_index=True` in `pd.concat`"
   ]
  },
  {
   "cell_type": "code",
   "execution_count": 11,
   "metadata": {},
   "outputs": [],
   "source": [
    "def party_from_color(color):\n",
    "    if color in ['#0000CC', '#3B5998']:\n",
    "        return 'democrat'\n",
    "    if color in ['#FF0000', '#D30015']:\n",
    "        return 'republican'\n",
    "    return 'other'\n",
    "\n",
    "\n",
    "def error_data(url):\n",
    "    \"\"\"\n",
    "    Given a Governor race URL, download the poll data and race result,\n",
    "    and construct a DataFrame with the following columns:\n",
    "    \n",
    "    candidate: Name of the candidate\n",
    "    forecast_length: Number of days before the election\n",
    "    percentage: The percent of poll votes a candidate has.\n",
    "                Normalized to that the canddidate percentages add to 100%\n",
    "    error: Difference between percentage and actual race reulst\n",
    "    party: Political party of the candidate\n",
    "    \n",
    "    The data are resampled as necessary, to provide one data point per day\n",
    "    \"\"\"\n",
    "    \n",
    "    id = id_from_url(url)\n",
    "    xml = get_poll_xml(id)\n",
    "    \n",
    "    colors = plot_colors(xml)\n",
    "    if len(colors) == 0:\n",
    "        return pd.DataFrame()\n",
    "    \n",
    "    df = rcp_poll_data(xml)\n",
    "    result = race_result(url)\n",
    "    \n",
    "    #remove non-letter characters from columns\n",
    "    df = df.rename(columns={c: _strip(c) for c in df.columns})\n",
    "    for k, v in result.items():\n",
    "        result[_strip(k)] = v \n",
    "    \n",
    "    candidates = [c for c in df.columns if c is not 'date']\n",
    "        \n",
    "    #turn into a timeseries...\n",
    "    df.index = df.date\n",
    "    \n",
    "    #...so that we can resample at regular, daily intervals\n",
    "    df = df.resample('D')\n",
    "    df = df.dropna()\n",
    "    \n",
    "    #compute forecast length in days\n",
    "    #(assuming that last forecast happens on the day of the election, for simplicity)\n",
    "    forecast_length = (df.date.max() - df.date).values\n",
    "    forecast_length = forecast_length / np.timedelta64(1, 'D')  # convert to number of days\n",
    "    \n",
    "    #compute forecast error\n",
    "    errors = {}\n",
    "    normalized = {}\n",
    "    poll_lead = {}\n",
    "    \n",
    "    for c in candidates:\n",
    "        #turn raw percentage into percentage of poll votes\n",
    "        corr = df[c].values / df[candidates].sum(axis=1).values * 100.\n",
    "        err = corr - result[_strip(c)]\n",
    "        \n",
    "        normalized[c] = corr\n",
    "        errors[c] = err\n",
    "        \n",
    "    n = forecast_length.size\n",
    "    \n",
    "    result = {}\n",
    "    result['percentage'] = np.hstack(normalized[c] for c in candidates)\n",
    "    result['error'] = np.hstack(errors[c] for c in candidates)\n",
    "    result['candidate'] = np.hstack(np.repeat(c, n) for c in candidates)\n",
    "    result['party'] = np.hstack(np.repeat(party_from_color(colors[_strip(c)]), n) for c in candidates)\n",
    "    result['forecast_length'] = np.hstack(forecast_length for _ in candidates)\n",
    "    \n",
    "    result = pd.DataFrame(result)\n",
    "    return result"
   ]
  },
  {
   "cell_type": "code",
   "execution_count": 12,
   "metadata": {},
   "outputs": [],
   "source": [
    "\"\"\"\n",
    "function\n",
    "---------\n",
    "all_error_data\n",
    "\n",
    "Calls error_data on all races from find_governer_races(page),\n",
    "and concatenates into a single DataFrame\n",
    "\n",
    "Parameters\n",
    "-----------\n",
    "None\n",
    "\n",
    "Examples\n",
    "--------\n",
    "df = all_error_data()\n",
    "\"\"\"\n",
    "#your code here\n"
   ]
  },
  {
   "cell_type": "code",
   "execution_count": 13,
   "metadata": {},
   "outputs": [],
   "source": [
    "errors = all_error_data()"
   ]
  },
  {
   "cell_type": "markdown",
   "metadata": {},
   "source": [
    "Here's a histogram of the error of every polling measurement in the data"
   ]
  },
  {
   "cell_type": "code",
   "execution_count": 14,
   "metadata": {},
   "outputs": [],
   "source": [
    "errors.error.hist(bins=50)\n",
    "plt.xlabel(\"Polling Error\")\n",
    "plt.ylabel('N')"
   ]
  },
  {
   "cell_type": "markdown",
   "metadata": {},
   "source": [
    "### Problem 6\n",
    "\n",
    "Compute the standard deviation of the polling errors. How much uncertainty is there in the typical RCP poll?"
   ]
  },
  {
   "cell_type": "code",
   "execution_count": 15,
   "metadata": {},
   "outputs": [],
   "source": [
    "#your code here\n"
   ]
  },
  {
   "cell_type": "markdown",
   "metadata": {},
   "source": [
    "### Problem 7\n",
    "\n",
    "Repeat this calculation for the data where `errors.forecast_length < 7` (i.e. the polls within a week of an election). How much more/less accurate are they? How about the data where `errors.forecast_length > 30`? \n",
    "\n",
    "**Comment on this in 1 or 2 sentences**. Does this make sense?"
   ]
  },
  {
   "cell_type": "code",
   "execution_count": 16,
   "metadata": {},
   "outputs": [],
   "source": [
    "#your code here\n"
   ]
  },
  {
   "cell_type": "markdown",
   "metadata": {},
   "source": [
    "### Problem 8\n",
    "\n",
    "**Bootstrap resampling** is a general purpose way to use empirical data like the `errors` DataFrame to estimate uncertainties. For example, consider the [Viriginia Governor Race](http://www.realclearpolitics.com/epolls/2013/governor/va/virginia_governor_cuccinelli_vs_mcauliffe-3033.html). If we wanted to estimate how likey it is that McAuliffe will win given the current RCP data, the approch would be:\n",
    "\n",
    "1. Pick a large number N of experiments to run (say N=1000).\n",
    "2. For each experiment, randomly select a value from `errors.error`. We are assuming that these numbers represent a reasonable error distribution for the current poll data.\n",
    "3. Assume that the error on McAullife's current polling score is given by this number (and, by extension, the error on Cuccinelli's poll score is the opposite). Calculate who actually wins the election in this simulation.\n",
    "4. Repeat N times, and calculate the percentage of simulations where either candidate wins.\n",
    "\n",
    "Bootstrapping isn't foolproof: it makes the assumption that the previous Governor race errors are representative of the Virginia race, and it does a bad job at estimating very rare events (with only ~30 races in the errors DataFrame, it would be hard to accurately predict probabilities for 1-in-a-million scenarios). Nevertheless, it's a versatile technique.\n",
    "\n",
    "Use bootstrap resampling to estimate how likely it is that each candidate could win the following races.\n",
    "\n",
    " * [Virginia Governor](http://www.realclearpolitics.com/epolls/2013/governor/va/virginia_governor_cuccinelli_vs_mcauliffe-3033.html)\n",
    " * [New Jersey Governor](http://www.realclearpolitics.com/epolls/2013/governor/nj/new_jersey_governor_christie_vs_buono-3411.html)\n",
    " \n",
    "**Summarize your results in a paragraph. What conclusions do you draw from the bootstrap analysis, and what assumptions did you make in reaching this conclusion. What are some limitations of this analysis?**\n",
    " "
   ]
  },
  {
   "cell_type": "code",
   "execution_count": 17,
   "metadata": {},
   "outputs": [],
   "source": [
    "#your code here\n"
   ]
  },
  {
   "cell_type": "markdown",
   "metadata": {},
   "source": [
    "**Your summary here**"
   ]
  },
  {
   "cell_type": "markdown",
   "metadata": {},
   "source": [
    "## Parting Thoughts\n",
    "\n",
    "For comparison, most of the predictions in Nate Silver's [presidental forecast](http://fivethirtyeight.blogs.nytimes.com/fivethirtyeights-2012-forecast/) had confidences of >95%. This is more precise than what we can estimate from the RCP poll alone. His approach, however, is the same basic idea (albeit he used many more polls, and carefully calibrated each based on demographic and other information). Homework 2 will dive into some of his techniques further.\n",
    "\n",
    "\n",
    "## How to submit\n",
    "\n",
    "To submit your homework, create a folder named lastname_firstinitial_hw0 and place this notebook file in the folder. If your notebook requires any additional data files to run (it shouldn't), add them to this directory as well. Compress the folder (please use .zip compression) and submit to the CS109 dropbox in the appropriate folder. If we cannot access your work because these directions are not followed correctly, we will not grade your work."
   ]
  },
  {
   "cell_type": "markdown",
   "metadata": {},
   "source": [
    "---\n",
    "*css tweaks in this cell*\n",
    "<style>\n",
    "div.text_cell_render {\n",
    "    line-height: 150%;\n",
    "    font-size: 110%;\n",
    "    width: 800px;\n",
    "    margin-left:50px;\n",
    "    margin-right:auto;\n",
    "    }\n",
    "</style>"
   ]
  }
 ],
 "metadata": {
  "kernelspec": {
   "display_name": "Python 3",
   "language": "python",
   "name": "python3"
  },
  "language_info": {
   "codemirror_mode": {
    "name": "ipython",
    "version": 3
   },
   "file_extension": ".py",
   "mimetype": "text/x-python",
   "name": "python",
   "nbconvert_exporter": "python",
   "pygments_lexer": "ipython3",
   "version": "3.9.1"
  }
 },
 "nbformat": 4,
 "nbformat_minor": 1
}
